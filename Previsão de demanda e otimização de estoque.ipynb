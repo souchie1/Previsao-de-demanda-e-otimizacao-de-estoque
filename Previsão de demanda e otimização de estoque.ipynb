{
 "cells": [
  {
   "cell_type": "code",
   "execution_count": null,
   "id": "ea1b179b",
   "metadata": {},
   "outputs": [],
   "source": [
    "'''Um projeto de previsão de demanda e otimização de estoque pode ser muito útil para empresas que desejam melhorar sua eficiência operacional,\n",
    "reduzir custos de armazenamento e evitar a falta ou excesso de produtos.'''"
   ]
  },
  {
   "cell_type": "code",
   "execution_count": null,
   "id": "458ac06a",
   "metadata": {},
   "outputs": [],
   "source": [
    "import pandas as pd\n",
    "import numpy as np\n",
    "import seaborn as sns\n",
    "import matplotlib.pyplot as plt\n",
    "import plotly.express as px\n",
    "from statsmodels.graphics.tsaplots import plot_acf, plot_pacf\n",
    "from statsmodels.tsa.statespace.sarimax import SARIMAX\n",
    "\n"
   ]
  },
  {
   "cell_type": "code",
   "execution_count": null,
   "id": "88b0ffb9",
   "metadata": {},
   "outputs": [],
   "source": [
    "df = pd.read_csv('demand_inventory (1).csv')\n",
    "df"
   ]
  },
  {
   "cell_type": "code",
   "execution_count": null,
   "id": "5a7ecd72",
   "metadata": {},
   "outputs": [],
   "source": [
    "df.drop('Unnamed: 0', axis=1, inplace=True)\n",
    "df"
   ]
  },
  {
   "cell_type": "code",
   "execution_count": null,
   "id": "08776711",
   "metadata": {},
   "outputs": [],
   "source": [
    "df.head()"
   ]
  },
  {
   "cell_type": "code",
   "execution_count": null,
   "id": "7cb707a2",
   "metadata": {},
   "outputs": [],
   "source": [
    "df.tail()"
   ]
  },
  {
   "cell_type": "code",
   "execution_count": null,
   "id": "e5f7bf05",
   "metadata": {},
   "outputs": [],
   "source": [
    "df.shape"
   ]
  },
  {
   "cell_type": "code",
   "execution_count": null,
   "id": "9d33c07f",
   "metadata": {},
   "outputs": [],
   "source": [
    "df.info()"
   ]
  },
  {
   "cell_type": "code",
   "execution_count": null,
   "id": "5498615c",
   "metadata": {},
   "outputs": [],
   "source": [
    "df['Date'] = pd.to_datetime(df['Date'], format='%Y-%m-%d')\n"
   ]
  },
  {
   "cell_type": "code",
   "execution_count": null,
   "id": "97694248",
   "metadata": {},
   "outputs": [],
   "source": [
    "df.info()"
   ]
  },
  {
   "cell_type": "code",
   "execution_count": null,
   "id": "58408e57",
   "metadata": {},
   "outputs": [],
   "source": [
    "df.isnull().sum()"
   ]
  },
  {
   "cell_type": "code",
   "execution_count": null,
   "id": "47b9d531",
   "metadata": {},
   "outputs": [],
   "source": [
    "df.duplicated().sum()"
   ]
  },
  {
   "cell_type": "code",
   "execution_count": null,
   "id": "d7904789",
   "metadata": {},
   "outputs": [],
   "source": [
    "df.set_index('Date', inplace=True)"
   ]
  },
  {
   "cell_type": "code",
   "execution_count": null,
   "id": "a2d1cb2d",
   "metadata": {},
   "outputs": [],
   "source": [
    "df"
   ]
  },
  {
   "cell_type": "code",
   "execution_count": null,
   "id": "2aed3fc8",
   "metadata": {},
   "outputs": [],
   "source": [
    "# Selecionando os dados dentro do período desejado\n",
    "periodo_selecionado = df.loc['2023-06-01':'2023-08-01']\n",
    "\n",
    "# Calculando as vendas por mês\n",
    "vendas_por_mes = periodo_selecionado.resample('M').sum()\n",
    "vendas_por_mes\n"
   ]
  },
  {
   "cell_type": "code",
   "execution_count": null,
   "id": "3140f90c",
   "metadata": {},
   "outputs": [],
   "source": [
    "# Plotando a série temporal de demanda\n",
    "plt.figure(figsize=(10, 6))\n",
    "plt.plot(df.index, df['Demand'], color='blue')\n",
    "plt.title('Demanda ao longo do tempo')\n",
    "plt.xlabel('Data')\n",
    "plt.ylabel('Demanda')\n",
    "plt.grid(True)\n",
    "plt.show()\n"
   ]
  },
  {
   "cell_type": "code",
   "execution_count": null,
   "id": "df77c177",
   "metadata": {},
   "outputs": [],
   "source": [
    "# Selecionando os dados no período especificado\n",
    "periodo_selecionado = df.loc['2023-06-01':'2023-06-30']\n",
    "\n",
    "# Ordenando as vendas em ordem decrescente\n",
    "top_datas_vendas = periodo_selecionado.sort_values(by='Demand', ascending=False)\n",
    "top_datas_vendas # retornará as datas com as maiores vendas"
   ]
  },
  {
   "cell_type": "code",
   "execution_count": null,
   "id": "577b238f",
   "metadata": {},
   "outputs": [],
   "source": [
    "df.describe() # dados analiticos"
   ]
  },
  {
   "cell_type": "code",
   "execution_count": null,
   "id": "88898d8b",
   "metadata": {},
   "outputs": [],
   "source": [
    "# Aplicando suavização exponencial para identificar tendências de longo prazo\n",
    "from statsmodels.tsa.holtwinters import ExponentialSmoothing\n",
    "\n",
    "# Ajustando o modelo de suavização exponencial aos dados de vendas\n",
    "modelo_suavizacao = ExponentialSmoothing(df['Demand'], trend='add')\n",
    "resultado_suavizacao = modelo_suavizacao.fit()\n",
    "\n",
    "# Prevendo as vendas usando o modelo ajustado\n",
    "previsao_vendas = resultado_suavizacao.fittedvalues\n",
    "\n",
    "# Plotando as vendas originais e as vendas suavizadas\n",
    "plt.figure(figsize=(10, 6))\n",
    "plt.plot(df.index, df['Demand'], label='Vendas Originais', color='blue')\n",
    "plt.plot(df.index, previsao_vendas, label='Vendas Suavizadas', color='red')\n",
    "plt.title('Vendas Originais vs. Vendas Suavizadas')\n",
    "plt.xlabel('Data')\n",
    "plt.ylabel('Vendas')\n",
    "plt.legend()\n",
    "plt.grid(True)\n",
    "plt.show()\n"
   ]
  },
  {
   "cell_type": "code",
   "execution_count": null,
   "id": "6c06eea6",
   "metadata": {},
   "outputs": [],
   "source": [
    "# Plotando a série temporal de demanda\n",
    "plt.figure(figsize=(10, 6))\n",
    "plt.plot(df.index, df['Inventory'], color='blue')\n",
    "plt.title('Inventário ao longo do tempo')\n",
    "plt.xlabel('Data')\n",
    "plt.ylabel('Inventário')\n",
    "plt.grid(True)\n",
    "plt.show()\n"
   ]
  },
  {
   "cell_type": "code",
   "execution_count": null,
   "id": "793a4413",
   "metadata": {},
   "outputs": [],
   "source": [
    "# Aplicando suavização exponencial para identificar tendências de longo prazo\n",
    "from statsmodels.tsa.holtwinters import ExponentialSmoothing\n",
    "\n",
    "# Ajustando o modelo de suavização exponencial aos dados de vendas\n",
    "modelo_suavizacao = ExponentialSmoothing(df['Inventory'], trend='add')\n",
    "resultado_suavizacao = modelo_suavizacao.fit()\n",
    "\n",
    "# Prevendo as vendas usando o modelo ajustado\n",
    "previsao_vendas = resultado_suavizacao.fittedvalues\n",
    "\n",
    "# Plotando as vendas originais e as vendas suavizadas\n",
    "plt.figure(figsize=(10, 6))\n",
    "plt.plot(df.index, df['Inventory'], label='Inventário Original', color='blue')\n",
    "plt.plot(df.index, previsao_vendas, label='Inventário Suavizado', color='red')\n",
    "plt.title('Inventário Original vs. Inventário Suavizado')\n",
    "plt.xlabel('Data')\n",
    "plt.ylabel('Inventário')\n",
    "plt.legend()\n",
    "plt.grid(True)\n",
    "plt.show()"
   ]
  },
  {
   "cell_type": "code",
   "execution_count": null,
   "id": "d532c07b",
   "metadata": {},
   "outputs": [],
   "source": [
    "vendas_por_produto = df.groupby('Product_ID')['Demand'].sum()\n",
    "print(\"Vendas Totais por Produto:\")\n",
    "print(vendas_por_produto)\n"
   ]
  },
  {
   "cell_type": "code",
   "execution_count": null,
   "id": "2128a7aa",
   "metadata": {},
   "outputs": [],
   "source": [
    "# Calculando as vendas cruzadas entre produtos\n",
    "vendas_cruzadas = df.groupby('Product_ID')['Demand'].sum()\n",
    "print(\"Vendas Cruzadas entre Produtos:\")\n",
    "print(vendas_cruzadas)\n"
   ]
  },
  {
   "cell_type": "code",
   "execution_count": null,
   "id": "9d3310a2",
   "metadata": {},
   "outputs": [],
   "source": [
    "df['Percentual_Demanda_vs_Inventario'] = (df['Demand'] / df['Inventory']) * 100\n",
    "df['Percentual_Demanda_vs_Inventario'] "
   ]
  },
  {
   "cell_type": "code",
   "execution_count": null,
   "id": "00e8c10c",
   "metadata": {},
   "outputs": [],
   "source": [
    "# Definindo o período da média móvel (por exemplo, 30 dias)\n",
    "periodo_media_movel = 30\n",
    "\n",
    "# Calculando a média móvel das vendas\n",
    "df['Sales_Moving_Average'] = df['Demand'].rolling(window=periodo_media_movel, min_periods=1).mean()\n",
    "\n",
    "# Exibindo as primeiras linhas do DataFrame resultante\n",
    "df.head()"
   ]
  },
  {
   "cell_type": "code",
   "execution_count": null,
   "id": "4088ed7c",
   "metadata": {},
   "outputs": [],
   "source": [
    "from statsmodels.tsa.holtwinters import ExponentialSmoothing\n",
    "import matplotlib.pyplot as plt\n",
    "\n",
    "# Ajustando o modelo de Holt-Winters aos dados de vendas\n",
    "modelo_hw = ExponentialSmoothing(df['Demand'], trend='add', seasonal='add', seasonal_periods=12)\n",
    "resultado_hw = modelo_hw.fit()\n",
    "\n",
    "# Prevendo as vendas usando o modelo ajustado\n",
    "previsao_vendas_hw = resultado_hw.fittedvalues\n",
    "\n",
    "# Plotando as vendas originais e as vendas previstas\n",
    "plt.figure(figsize=(10, 6))\n",
    "plt.plot(df.index, df['Demand'], label='Vendas Originais', color='blue')\n",
    "plt.plot(df.index, previsao_vendas_hw, label='Vendas Previstas (Holt-Winters)', color='red')\n",
    "plt.title('Vendas Originais vs. Vendas Previstas (Holt-Winters)')\n",
    "plt.xlabel('Data')\n",
    "plt.ylabel('Vendas')\n",
    "plt.legend()\n",
    "plt.grid(True)\n",
    "plt.show()\n"
   ]
  },
  {
   "cell_type": "code",
   "execution_count": null,
   "id": "f2f7f290",
   "metadata": {},
   "outputs": [],
   "source": [
    "# Supondo que você tenha uma coluna 'Inventory' em seu DataFrame df\n",
    "# Adicione a coluna de inventário ao conjunto de dados\n",
    "df['Inventory_Available'] = df['Inventory']\n",
    "\n",
    "# Exibindo as primeiras linhas do DataFrame resultante\n",
    "df.head()\n"
   ]
  },
  {
   "cell_type": "code",
   "execution_count": null,
   "id": "4bc7dfd9",
   "metadata": {},
   "outputs": [],
   "source": [
    "import pandas as pd\n",
    "import matplotlib.pyplot as plt\n",
    "from statsmodels.graphics.tsaplots import plot_acf, plot_pacf\n",
    "\n",
    "# Vou assumir que você já tem um DataFrame 'data' onde 'Date' é o índice\n",
    "# Vou supor que 'Demand' é a coluna que queremos analisar\n",
    "\n",
    "# Se 'Date' já for o índice, você não precisa definir novamente, apenas use-o como está\n",
    "time_series = df['Demand']\n",
    "\n",
    "# Diferenciar a série temporal para torná-la estacionária (remover tendência)\n",
    "differenced_series = time_series.diff().dropna()\n",
    "\n",
    "# Plot ACF e PACF da série temporal diferenciada\n",
    "fig, axes = plt.subplots(1, 2, figsize=(12, 4))\n",
    "plot_acf(differenced_series, ax=axes[0])\n",
    "plot_pacf(differenced_series, ax=axes[1])\n",
    "plt.show()\n"
   ]
  },
  {
   "cell_type": "code",
   "execution_count": null,
   "id": "4e2ee5cb",
   "metadata": {},
   "outputs": [],
   "source": [
    "# Selecionar apenas as colunas numéricas\n",
    "df_numeric = df.select_dtypes(include=[np.number])\n",
    "\n",
    "# Calcular a correlação\n",
    "correlacao = df_numeric.corr()\n",
    "correlacao\n"
   ]
  },
  {
   "cell_type": "code",
   "execution_count": null,
   "id": "b5076c12",
   "metadata": {},
   "outputs": [],
   "source": [
    "# Defina order e seasonal_order de acordo com a ordem do seu modelo SARIMA\n",
    "order = (1, 1, 1)\n",
    "seasonal_order = (1, 1, 1, 2)\n",
    "\n",
    "# Crie e ajuste o modelo SARIMA\n",
    "model = SARIMAX(time_series, order=order, seasonal_order=seasonal_order)\n",
    "model_fit = model.fit(disp=False)\n",
    "\n",
    "# Defina quantos passos futuros você deseja prever\n",
    "future_steps = 30\n",
    "\n",
    "# Faça previsões para os próximos 'future_steps' passos\n",
    "predictions = model_fit.predict(len(time_series), len(time_series) + future_steps - 1)\n",
    "predictions = predictions.astype(int)\n",
    "\n",
    "print(predictions)"
   ]
  },
  {
   "cell_type": "code",
   "execution_count": null,
   "id": "741ef6f3",
   "metadata": {},
   "outputs": [],
   "source": [
    "import numpy as np\n",
    "\n",
    "# Suponha que você tenha as previsões reais de demanda para agosto de 2023\n",
    "previsoes_demandas = [\n",
    "    117, 116, 130, 114, 128, 115, 129, 115, 129, 115, \n",
    "    129, 115, 129, 115, 129, 115, 129, 115, 129, 115, \n",
    "    129, 116, 130, 116, 130, 116, 130, 116, 130, 116\n",
    "]\n",
    "\n",
    "# Define os parâmetros\n",
    "inventario_inicial = 5500\n",
    "lead_time = 7\n",
    "nivel_de_servico = 0.95\n",
    "custo_de_estoque = 0.1\n",
    "custo_de_falta_de_estoque = 10\n",
    "\n",
    "# Calcula a quantidade ótima de pedido usando a fórmula do Newsvendor\n",
    "z = np.abs(np.percentile(previsoes_demandas, 100 * (1 - nivel_de_servico)))\n",
    "quantidade_do_pedido = np.ceil(np.mean(previsoes_demandas) + z).astype(int)\n",
    "\n",
    "# Calcula o ponto de reposição\n",
    "ponto_de_reposicao = np.mean(previsoes_demandas) * lead_time + z\n",
    "\n",
    "# Calcula o estoque de segurança ótimo\n",
    "estoque_de_seguranca = ponto_de_reposicao - np.mean(previsoes_demandas) * lead_time\n",
    "\n",
    "# Calcula o custo total de manutenção de estoque\n",
    "custo_total_de_manutencao = custo_de_estoque * (inventario_inicial + 0.5 * quantidade_do_pedido)\n",
    "\n",
    "# Calcula o custo total de falta de estoque\n",
    "custo_total_de_falta_de_estoque = custo_de_falta_de_estoque * np.maximum(0, np.mean(previsoes_demandas) * lead_time - inventario_inicial)\n",
    "\n",
    "# Calcula o custo total\n",
    "custo_total = custo_total_de_manutencao + custo_total_de_falta_de_estoque\n",
    "\n",
    "print(\"Quantidade ótima de pedido:\", quantidade_do_pedido)\n",
    "print(\"Ponto de reposição:\", ponto_de_reposicao)\n",
    "print(\"Estoque de segurança:\", estoque_de_seguranca)\n",
    "print(\"Custo total:\", custo_total)\n"
   ]
  },
  {
   "cell_type": "code",
   "execution_count": null,
   "id": "075942f1",
   "metadata": {},
   "outputs": [],
   "source": [
    "import numpy as np\n",
    "\n",
    "# Suponha que você tenha as previsões reais de demanda para agosto de 2023\n",
    "previsoes_demandas = [\n",
    "    117, 116, 130, 114, 128, 115, 129, 115, 129, 115, \n",
    "    129, 115, 129, 115, 129, 115, 129, 115, 129, 115, \n",
    "    129, 116, 130, 116, 130, 116, 130, 116, 130, 116\n",
    "]\n",
    "\n",
    "# Define os parâmetros\n",
    "inventario_inicial = 5500\n",
    "lead_time = 7\n",
    "nivel_de_servico = 0.95\n",
    "custo_de_estoque = 0.1\n",
    "custo_de_falta_de_estoque = 10\n",
    "\n",
    "# Calcula a quantidade ótima de pedido usando a fórmula do Newsvendor\n",
    "z = np.abs(np.percentile(previsoes_demandas, 100 * (1 - nivel_de_servico)))\n",
    "quantidade_do_pedido = np.ceil(np.mean(previsoes_demandas) + z).astype(int)\n",
    "\n",
    "# Calcula o ponto de reposição\n",
    "ponto_de_reposicao = np.mean(previsoes_demandas) * lead_time + z\n",
    "\n",
    "# Calcula o estoque de segurança ótimo\n",
    "estoque_de_seguranca = ponto_de_reposicao - np.mean(previsoes_demandas) * lead_time\n",
    "\n",
    "# Calcula o custo total de manutenção de estoque\n",
    "custo_total_de_manutencao = custo_de_estoque * (inventario_inicial + 0.5 * quantidade_do_pedido)\n",
    "\n",
    "# Calcula o custo total de falta de estoque\n",
    "custo_total_de_falta_de_estoque = custo_de_falta_de_estoque * np.maximum(0, np.mean(previsoes_demandas) * lead_time - inventario_inicial)\n",
    "\n",
    "# Calcula o custo total\n",
    "custo_total = custo_total_de_manutencao + custo_total_de_falta_de_estoque\n",
    "\n",
    "print(\"Quantidade ótima de pedido:\", quantidade_do_pedido)\n",
    "print(\"Ponto de reposição:\", ponto_de_reposicao)\n",
    "print(\"Estoque de segurança:\", estoque_de_seguranca)\n",
    "print(\"Custo total:\", custo_total)\n"
   ]
  },
  {
   "cell_type": "code",
   "execution_count": null,
   "id": "0972235c",
   "metadata": {},
   "outputs": [],
   "source": []
  }
 ],
 "metadata": {
  "kernelspec": {
   "display_name": "Python 3 (ipykernel)",
   "language": "python",
   "name": "python3"
  },
  "language_info": {
   "codemirror_mode": {
    "name": "ipython",
    "version": 3
   },
   "file_extension": ".py",
   "mimetype": "text/x-python",
   "name": "python",
   "nbconvert_exporter": "python",
   "pygments_lexer": "ipython3",
   "version": "3.11.5"
  }
 },
 "nbformat": 4,
 "nbformat_minor": 5
}
